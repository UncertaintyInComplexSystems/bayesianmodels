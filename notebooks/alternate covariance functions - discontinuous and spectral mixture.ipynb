{
  "cells": [
    {
      "cell_type": "markdown",
      "metadata": {
        "id": "96SWkc20ciX8"
      },
      "source": [
        "### Discontinuity analysis and spectral mixture kerels\n"
      ]
    },
    {
      "cell_type": "code",
      "execution_count": null,
      "metadata": {
        "colab": {
          "base_uri": "https://localhost:8080/",
          "height": 1000
        },
        "id": "PKwBWZw9cj1T",
        "outputId": "242b3886-8fbf-432e-8086-143c3ab44e3f"
      },
      "outputs": [],
      "source": [
        "!pip install git+ssh://git@github.com/UncertaintyInComplexSystems/bayesianmodels.git\n",
        "!pip install numpy==1.23.5"
      ]
    },
    {
      "cell_type": "code",
      "execution_count": 7,
      "metadata": {
        "id": "VGK3SkpzntO1"
      },
      "outputs": [],
      "source": [
        "import matplotlib.pyplot as plt\n",
        "\n",
        "import jax\n",
        "import jax.random as jrnd\n",
        "import jax.numpy as jnp\n",
        "import distrax as dx\n",
        "import jaxkern as jk\n",
        "\n",
        "from jax.config import config\n",
        "config.update(\"jax_enable_x64\", True)  # crucial for Gaussian processes\n",
        "config.update(\"jax_default_device\", jax.devices()[0])\n",
        "\n",
        "from tensorflow_probability.substrates import jax as tfp\n",
        "tfd = tfp.distributions\n",
        "tfb = tfp.bijectors\n",
        "\n",
        "from uicsmodels.gpmodels.fullgpmodels import FullLatentGPModel, FullMarginalGPModel\n",
        "from uicsmodels.gpmodels.kernels import Discontinuous"
      ]
    },
    {
      "cell_type": "code",
      "execution_count": null,
      "metadata": {},
      "outputs": [],
      "source": [
        "def disc_plot(ax, x, y, x0, *args, **kwargs):\n",
        "    if jnp.ndim(y) == 1:\n",
        "        y = y[:, jnp.newaxis]\n",
        "    if jnp.ndim(x) == 1:\n",
        "        x = x[:, jnp.newaxis]\n",
        "    ix_pre = x[:, 0] < x0\n",
        "    ix_post = x[:, 0] >= x0\n",
        "    ax.plot(x[ix_pre, 0], y[ix_pre, 0], *args, **kwargs)\n",
        "    ax.plot(x[ix_post, 0], y[ix_post, 0], *args, **kwargs)\n",
        "\n",
        "#\n",
        "def disc_fill_between(ax, x, y1, y2, x0, *args, **kwargs):\n",
        "    if jnp.ndim(y1) == 1:\n",
        "        y1 = y1[:, jnp.newaxis]\n",
        "    if jnp.ndim(y2) == 1:\n",
        "        y2 = y2[:, jnp.newaxis]\n",
        "    if jnp.ndim(x) == 1:\n",
        "        x = x[:, jnp.newaxis]\n",
        "    ix_pre = x[:, 0] < x0\n",
        "    ix_post = x[:, 0] >= x0\n",
        "    ax.fill_between(x[ix_pre, 0], y1[ix_pre, 0], y2[ix_pre, 0], **kwargs)\n",
        "    ax.fill_between(x[ix_post, 0], y1[ix_post, 0], y2[ix_post, 0], **kwargs)\n",
        "\n",
        "#"
      ]
    },
    {
      "cell_type": "markdown",
      "metadata": {},
      "source": [
        "Simulate some data from a known GP with a discontinuity at $x_0$:"
      ]
    },
    {
      "cell_type": "code",
      "execution_count": null,
      "metadata": {
        "colab": {
          "base_uri": "https://localhost:8080/",
          "height": 449
        },
        "id": "WmpGR1ySMZb-",
        "outputId": "ed120675-1e46-4917-80f0-54933341ec93"
      },
      "outputs": [],
      "source": [
        "key = jrnd.PRNGKey(56)\n",
        "key, key_x, key_y = jrnd.split(key, 3)\n",
        "\n",
        "d = 2.0\n",
        "f = lambda x, x0: jnp.sin(jnp.pi*x) + jnp.cos(4/7*x) + d*(x>=x0)\n",
        "sigma = 0.3\n",
        "\n",
        "x = jnp.linspace(0, 2*jnp.pi, num=200)\n",
        "x0 = jnp.pi\n",
        "n = 100\n",
        "\n",
        "x_obs = 2*jnp.pi*jnp.sort(jrnd.uniform(key_x, shape=(n,)))\n",
        "y = f(x_obs, x0) + sigma*jrnd.normal(key_y, shape=(n,))\n",
        "\n",
        "plt.figure(figsize=(10, 6))\n",
        "ax = plt.gca()\n",
        "disc_plot(ax, x, f(x, x0), x0, 'k', label=r'$f$')\n",
        "ax.plot(x_obs, y, 'rx', label='obs')\n",
        "ax.set_xlabel('x')\n",
        "ax.set_ylabel('y')\n",
        "ax.set_xlim([0., 2*jnp.pi])\n",
        "ax.axvline(x=x0, c='k')\n",
        "ax.legend(loc='best');"
      ]
    },
    {
      "cell_type": "markdown",
      "metadata": {},
      "source": [
        "Set up the alternative model (with a discontinuity at $x_0$) $\\mathcal{M}_1$:"
      ]
    },
    {
      "cell_type": "code",
      "execution_count": 71,
      "metadata": {
        "colab": {
          "base_uri": "https://localhost:8080/"
        },
        "id": "zO8N18VcMlg6",
        "outputId": "f0e6f7c8-e894-425b-f91b-bd7f395309f7"
      },
      "outputs": [
        {
          "name": "stdout",
          "output_type": "stream",
          "text": [
            "CPU times: user 16 s, sys: 69.5 ms, total: 16.1 s\n",
            "Wall time: 16.6 s\n"
          ]
        }
      ],
      "source": [
        "%%time\n",
        "priors = dict(kernel=dict(lengthscale=dx.Transformed(dx.Normal(loc=0.,\n",
        "                                                               scale=1.),\n",
        "                                                     tfb.Exp()),\n",
        "                          variance=dx.Transformed(dx.Normal(loc=0.,\n",
        "                                                            scale=1.),\n",
        "                                                  tfb.Exp())),\n",
        "              likelihood=dict(obs_noise=dx.Transformed(dx.Normal(loc=0.,\n",
        "                                                                 scale=1.),\n",
        "                                                       tfb.Exp())))\n",
        "\n",
        "# We could set up a similar dict with step sizes and other MCMC parameters\n",
        "gpdisc = FullMarginalGPModel(x_obs, y,\n",
        "                         cov_fn=Discontinuous(base_kernel=jk.RBF(),\n",
        "                                              x0=x0),\n",
        "                         priors=priors)\n",
        "\n",
        "key, key_smc = jrnd.split(key)\n",
        "particles, num_iter, log_marginal_likelihood_disc = gpdisc.inference(key_smc,\n",
        "                                                                     mode='smc',\n",
        "                                                                     sampling_parameters=dict(num_particles=1_000, num_mcmc_steps=100))"
      ]
    },
    {
      "cell_type": "markdown",
      "metadata": {},
      "source": [
        "Set up the null model (without a discontinuity) $\\mathcal{M}_0$:"
      ]
    },
    {
      "cell_type": "code",
      "execution_count": null,
      "metadata": {
        "colab": {
          "base_uri": "https://localhost:8080/",
          "height": 428
        },
        "id": "HPhJOGfvMwbb",
        "outputId": "9e0788d6-aace-4641-d65a-6e1cc13c5442"
      },
      "outputs": [],
      "source": [
        "%%time\n",
        "priors = dict(kernel=dict(lengthscale=dx.Transformed(dx.Normal(loc=0.,\n",
        "                                                               scale=1.),\n",
        "                                                     tfb.Exp()),\n",
        "                          variance=dx.Transformed(dx.Normal(loc=0.,\n",
        "                                                            scale=1.),\n",
        "                                                  tfb.Exp())),\n",
        "              likelihood=dict(obs_noise=dx.Transformed(dx.Normal(loc=0.,\n",
        "                                                                 scale=1.),\n",
        "                                                       tfb.Exp())))\n",
        "\n",
        "# We could set up a similar dict with step sizes\n",
        "\n",
        "gpcont = FullMarginalGPModel(x_obs, y,\n",
        "                         cov_fn=jk.RBF(),\n",
        "                         priors=priors)\n",
        "\n",
        "key, key_smc = jrnd.split(key)\n",
        "particles_cont, _, log_marginal_likelihood_cont = gpcont.inference(key_smc,\n",
        "                                                                   mode='smc',\n",
        "                                                                   sampling_parameters=dict(num_particles=1_000, num_mcmc_steps=50))"
      ]
    },
    {
      "cell_type": "markdown",
      "metadata": {},
      "source": [
        "Plot the model fits and show the log Bayes factor of\n",
        "$\n",
        "    \\log \\text{BF}_{10} = \\log \\frac{p(D\\mid \\mathcal{M}_1)}{p(D\\mid \\mathcal{M}_0)} = \\log p(D\\mid \\mathcal{M}_1) - \\log p(D\\mid \\mathcal{M}_0) \\enspace.\n",
        "$"
      ]
    },
    {
      "cell_type": "code",
      "execution_count": null,
      "metadata": {},
      "outputs": [],
      "source": [
        "colors = ['#025464', '#E57C23']\n",
        "labels = ['$\\mathcal{M}_0$', '$\\mathcal{M}_1$']\n",
        "\n",
        "log_BF = log_marginal_likelihood_disc - log_marginal_likelihood_cont\n",
        "\n",
        "key, key_cont, key_disc = jrnd.split(key, 3)\n",
        "epsilon = 1e-6\n",
        "\n",
        "x_pred = jnp.sort(jnp.append(jnp.linspace(0, 2*jnp.pi, 200), jnp.array([x0 - epsilon, x0 + epsilon])))\n",
        "\n",
        "plt.figure(figsize=(10, 5))\n",
        "ax = plt.gca()\n",
        "\n",
        "post_pred = gpcont.predict_f(key_cont, x_pred=x_pred)\n",
        "post_pred_mu = jnp.mean(post_pred, axis=0)\n",
        "post_pred_hdi_lb, post_pred_hdi_ub = jnp.quantile(post_pred, axis=0,\n",
        "                                                  q=jnp.array([0.025, 0.975]))\n",
        "ax.plot(x_pred, post_pred_mu, color=colors[0], lw=2, label=labels[0])\n",
        "ax.fill_between(jnp.squeeze(x_pred), post_pred_hdi_lb, post_pred_hdi_ub,\n",
        "                    color=colors[0], alpha=0.3)\n",
        "\n",
        "post_pred = gpdisc.predict_f(key_disc, x_pred=x_pred)\n",
        "post_pred_mu = jnp.mean(post_pred, axis=0)\n",
        "post_pred_hdi_lb, post_pred_hdi_ub = jnp.quantile(post_pred, axis=0,\n",
        "                                                  q=jnp.array([0.025, 0.975]))\n",
        "\n",
        "disc_plot(ax, x_pred, post_pred_mu, x0, color=colors[1], lw=2, label=labels[1])\n",
        "disc_fill_between(ax, x_pred, post_pred_hdi_lb, post_pred_hdi_ub, x0, \n",
        "                  color=colors[1], alpha=0.3)\n",
        "\n",
        "ax.plot(x_obs, y, 'rx')\n",
        "ax.set_xlabel(r'$x$')\n",
        "ax.set_ylabel(r'$y$')\n",
        "ax.set_xlim([0, 2*jnp.pi])\n",
        "ax.axvline(x=x0, c='k', ls=':')\n",
        "ax.set_title('Log $BF_{{10}}={:0.2f}$'.format(log_BF));"
      ]
    }
  ],
  "metadata": {
    "accelerator": "GPU",
    "colab": {
      "gpuType": "V100",
      "provenance": []
    },
    "kernelspec": {
      "display_name": "Python 3",
      "name": "python3"
    },
    "language_info": {
      "name": "python"
    }
  },
  "nbformat": 4,
  "nbformat_minor": 0
}
