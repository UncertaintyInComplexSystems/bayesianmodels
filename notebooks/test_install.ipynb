{
 "cells": [
  {
   "cell_type": "code",
   "execution_count": 1,
   "metadata": {},
   "outputs": [
    {
     "name": "stdout",
     "output_type": "stream",
     "text": [
      "Setting CUDA visible devices to [5]\n"
     ]
    }
   ],
   "source": [
    "%load_ext autoreload\n",
    "%autoreload 2\n",
    "\n",
    "import os\n",
    "\n",
    "SELECTED_DEVICE = 5\n",
    "print(f'Setting CUDA visible devices to [{SELECTED_DEVICE}]')\n",
    "os.environ['CUDA_VISIBLE_DEVICES'] = f'{SELECTED_DEVICE}'\n",
    "os.environ['JAX_ENABLE_X64'] = 'True'\n",
    "\n",
    "import jax\n",
    "import jax.numpy as jnp\n",
    "import jax.numpy as jnp\n",
    "import jax.random as jr\n",
    "\n",
    "import matplotlib.pyplot as plt"
   ]
  },
  {
   "cell_type": "markdown",
   "metadata": {},
   "source": [
    "## Distrax"
   ]
  },
  {
   "cell_type": "code",
   "execution_count": 3,
   "metadata": {},
   "outputs": [
    {
     "name": "stdout",
     "output_type": "stream",
     "text": [
      "1.260539855282171\n",
      "1.260539855282171\n"
     ]
    }
   ],
   "source": [
    "import distrax\n",
    "\n",
    "\n",
    "from tensorflow_probability.substrates import jax as tfp\n",
    "tfd = tfp.distributions\n",
    "\n",
    "key = jax.random.PRNGKey(1234)\n",
    "mu = jnp.array([-1., 0., 1.])\n",
    "sigma = jnp.array([0.1, 0.2, 0.3])\n",
    "\n",
    "dist_distrax = distrax.MultivariateNormalDiag(mu, sigma)\n",
    "dist_tfp = tfd.MultivariateNormalDiag(mu, sigma)\n",
    "\n",
    "samples = dist_distrax.sample(seed=key)\n",
    "\n",
    "# Both print 1.775\n",
    "print(dist_distrax.log_prob(samples))\n",
    "print(dist_tfp.log_prob(samples))"
   ]
  },
  {
   "cell_type": "markdown",
   "metadata": {},
   "source": [
    "## JaxKern | Failed"
   ]
  },
  {
   "cell_type": "code",
   "execution_count": 4,
   "metadata": {},
   "outputs": [],
   "source": [
    "import jaxkern as jk\n",
    "key = jr.PRNGKey(123)\n",
    "\n",
    "# Define the points on which we'll evaluate the kernel\n",
    "X = jr.uniform(key, shape = (10, 1), minval=-3., maxval=3.)\n",
    "Y = jr.uniform(key, shape = (20, 1), minval=-3., maxval=3.)\n",
    "\n",
    "# Instantiate the kernel and its parameters\n",
    "kernel = jk.Matern32()\n",
    "params = kernel.init_params(key)\n",
    "\n",
    "# Compute the 10x10 Gram matrix\n",
    "Kxx = kernel.gram(params, X)\n",
    "\n",
    "# Compute the 10x20 cross-covariance matrix\n",
    "Kxy = kernel.cross_covariance(params, X, Y)\n",
    "\n",
    "# Build a RFF approximation\n",
    "approx = jk.RFF(kernel, num_basis_fns = 5)\n",
    "rff_params = approx.init_params(key)\n",
    "\n",
    "# Build an approximation to the Gram matrix\n",
    "Qff = approx.gram(rff_params, X)"
   ]
  },
  {
   "cell_type": "markdown",
   "metadata": {},
   "source": [
    "## GPJax"
   ]
  },
  {
   "cell_type": "code",
   "execution_count": 8,
   "metadata": {},
   "outputs": [],
   "source": [
    "# Enable Float64 for more stable matrix inversions.\n",
    "from jax import config\n",
    "import jax.numpy as jnp\n",
    "import jax.random as jr\n",
    "from jaxtyping import (\n",
    "    Float,\n",
    "    install_import_hook,\n",
    ")\n",
    "import matplotlib as mpl\n",
    "import matplotlib.pyplot as plt\n",
    "import optax as ox\n",
    "\n",
    "\n",
    "config.update(\"jax_enable_x64\", True)\n",
    "\n",
    "\n",
    "with install_import_hook(\"gpjax\", \"beartype.beartype\"):\n",
    "    import gpjax as gpx\n",
    "\n",
    "\n",
    "key = jr.key(42)\n",
    "\n",
    "# set the default style for plotting\n",
    "\n",
    "cols = mpl.rcParams[\"axes.prop_cycle\"].by_key()[\"color\"]"
   ]
  },
  {
   "cell_type": "code",
   "execution_count": 9,
   "metadata": {},
   "outputs": [
    {
     "ename": "TypeError",
     "evalue": "'jaxlib.xla_extension.Device' object is not callable",
     "output_type": "error",
     "traceback": [
      "\u001b[0;31m---------------------------------------------------------------------------\u001b[0m",
      "\u001b[0;31mTypeError\u001b[0m                                 Traceback (most recent call last)",
      "Cell \u001b[0;32mIn[9], line 15\u001b[0m\n\u001b[1;32m     13\u001b[0m \u001b[38;5;28;01mfor\u001b[39;00m k, ax \u001b[38;5;129;01min\u001b[39;00m \u001b[38;5;28mzip\u001b[39m(kernels, axes\u001b[38;5;241m.\u001b[39mravel()):\n\u001b[1;32m     14\u001b[0m     prior \u001b[38;5;241m=\u001b[39m gpx\u001b[38;5;241m.\u001b[39mgps\u001b[38;5;241m.\u001b[39mPrior(mean_function\u001b[38;5;241m=\u001b[39mmeanf, kernel\u001b[38;5;241m=\u001b[39mk)\n\u001b[0;32m---> 15\u001b[0m     rv \u001b[38;5;241m=\u001b[39m prior(x)\n\u001b[1;32m     16\u001b[0m     y \u001b[38;5;241m=\u001b[39m rv\u001b[38;5;241m.\u001b[39msample(seed\u001b[38;5;241m=\u001b[39mkey, sample_shape\u001b[38;5;241m=\u001b[39m(\u001b[38;5;241m10\u001b[39m,))\n\u001b[1;32m     17\u001b[0m     ax\u001b[38;5;241m.\u001b[39mplot(x, y\u001b[38;5;241m.\u001b[39mT, alpha\u001b[38;5;241m=\u001b[39m\u001b[38;5;241m0.7\u001b[39m)\n",
      "File \u001b[0;32m~/miniconda3/envs/UiCS2/lib/python3.12/site-packages/gpjax/gps.py:101\u001b[0m, in \u001b[0;36mAbstractPrior.__call__\u001b[0;34m(self, *args, **kwargs)\u001b[0m\n\u001b[1;32m     80\u001b[0m \u001b[38;5;28;01mdef\u001b[39;00m \u001b[38;5;21m__call__\u001b[39m(\u001b[38;5;28mself\u001b[39m, \u001b[38;5;241m*\u001b[39margs: Any, \u001b[38;5;241m*\u001b[39m\u001b[38;5;241m*\u001b[39mkwargs: Any) \u001b[38;5;241m-\u001b[39m\u001b[38;5;241m>\u001b[39m GaussianDistribution:\n\u001b[1;32m     81\u001b[0m \u001b[38;5;250m    \u001b[39m\u001b[38;5;124mr\u001b[39m\u001b[38;5;124;03m\"\"\"Evaluate the Gaussian process at the given points.\u001b[39;00m\n\u001b[1;32m     82\u001b[0m \n\u001b[1;32m     83\u001b[0m \u001b[38;5;124;03m    The output of this function is a\u001b[39;00m\n\u001b[0;32m   (...)\u001b[0m\n\u001b[1;32m     99\u001b[0m \u001b[38;5;124;03m            of the Gaussian process.\u001b[39;00m\n\u001b[1;32m    100\u001b[0m \u001b[38;5;124;03m    \"\"\"\u001b[39;00m\n\u001b[0;32m--> 101\u001b[0m     \u001b[38;5;28;01mreturn\u001b[39;00m \u001b[38;5;28mself\u001b[39m\u001b[38;5;241m.\u001b[39mpredict(\u001b[38;5;241m*\u001b[39margs, \u001b[38;5;241m*\u001b[39m\u001b[38;5;241m*\u001b[39mkwargs)\n",
      "File \u001b[0;32m~/miniconda3/envs/UiCS2/lib/python3.12/site-packages/gpjax/gps.py:278\u001b[0m, in \u001b[0;36mPrior.predict\u001b[0;34m(self, test_inputs)\u001b[0m\n\u001b[1;32m    276\u001b[0m x \u001b[38;5;241m=\u001b[39m test_inputs\n\u001b[1;32m    277\u001b[0m mx \u001b[38;5;241m=\u001b[39m \u001b[38;5;28mself\u001b[39m\u001b[38;5;241m.\u001b[39mmean_function(x)\n\u001b[0;32m--> 278\u001b[0m Kxx \u001b[38;5;241m=\u001b[39m \u001b[38;5;28mself\u001b[39m\u001b[38;5;241m.\u001b[39mkernel\u001b[38;5;241m.\u001b[39mgram(x)\n\u001b[1;32m    279\u001b[0m Kxx \u001b[38;5;241m+\u001b[39m\u001b[38;5;241m=\u001b[39m cola\u001b[38;5;241m.\u001b[39mops\u001b[38;5;241m.\u001b[39mI_like(Kxx) \u001b[38;5;241m*\u001b[39m \u001b[38;5;28mself\u001b[39m\u001b[38;5;241m.\u001b[39mjitter\n\u001b[1;32m    280\u001b[0m Kxx \u001b[38;5;241m=\u001b[39m cola\u001b[38;5;241m.\u001b[39mPSD(Kxx)\n",
      "File \u001b[0;32m~/miniconda3/envs/UiCS2/lib/python3.12/site-packages/gpjax/kernels/base.py:64\u001b[0m, in \u001b[0;36mAbstractKernel.gram\u001b[0;34m(self, x)\u001b[0m\n\u001b[1;32m     63\u001b[0m \u001b[38;5;28;01mdef\u001b[39;00m \u001b[38;5;21mgram\u001b[39m(\u001b[38;5;28mself\u001b[39m, x: Num[Array, \u001b[38;5;124m\"\u001b[39m\u001b[38;5;124mN D\u001b[39m\u001b[38;5;124m\"\u001b[39m]):\n\u001b[0;32m---> 64\u001b[0m     \u001b[38;5;28;01mreturn\u001b[39;00m \u001b[38;5;28mself\u001b[39m\u001b[38;5;241m.\u001b[39mcompute_engine\u001b[38;5;241m.\u001b[39mgram(\u001b[38;5;28mself\u001b[39m, x)\n",
      "File \u001b[0;32m~/miniconda3/envs/UiCS2/lib/python3.12/site-packages/gpjax/kernels/computations/base.py:57\u001b[0m, in \u001b[0;36mAbstractKernelComputation.gram\u001b[0;34m(self, kernel, x)\u001b[0m\n\u001b[1;32m     46\u001b[0m \u001b[38;5;250m\u001b[39m\u001b[38;5;124mr\u001b[39m\u001b[38;5;124;03m\"\"\"Compute Gram covariance operator of the kernel function.\u001b[39;00m\n\u001b[1;32m     47\u001b[0m \n\u001b[1;32m     48\u001b[0m \u001b[38;5;124;03mArgs:\u001b[39;00m\n\u001b[0;32m   (...)\u001b[0m\n\u001b[1;32m     54\u001b[0m \u001b[38;5;124;03m    LinearOperator: Gram covariance operator of the kernel function.\u001b[39;00m\n\u001b[1;32m     55\u001b[0m \u001b[38;5;124;03m\"\"\"\u001b[39;00m\n\u001b[1;32m     56\u001b[0m Kxx \u001b[38;5;241m=\u001b[39m \u001b[38;5;28mself\u001b[39m\u001b[38;5;241m.\u001b[39mcross_covariance(kernel, x, x)\n\u001b[0;32m---> 57\u001b[0m \u001b[38;5;28;01mreturn\u001b[39;00m PSD(Dense(Kxx))\n",
      "File \u001b[0;32m~/miniconda3/envs/UiCS2/lib/python3.12/site-packages/cola/ops/operator_base.py:22\u001b[0m, in \u001b[0;36mLinearOperator.__new__\u001b[0;34m(cls, *args, **kwargs)\u001b[0m\n\u001b[1;32m     20\u001b[0m \u001b[38;5;250m\u001b[39m\u001b[38;5;124;03m\"\"\" Creates attributes for the flatten and unflatten functionality. \"\"\"\u001b[39;00m\n\u001b[1;32m     21\u001b[0m obj \u001b[38;5;241m=\u001b[39m \u001b[38;5;28msuper\u001b[39m()\u001b[38;5;241m.\u001b[39m\u001b[38;5;21m__new__\u001b[39m(\u001b[38;5;28mcls\u001b[39m)\n\u001b[0;32m---> 22\u001b[0m obj\u001b[38;5;241m.\u001b[39mdevice \u001b[38;5;241m=\u001b[39m find_device([args, kwargs])\n\u001b[1;32m     23\u001b[0m \u001b[38;5;28;01mreturn\u001b[39;00m obj\n",
      "File \u001b[0;32m~/miniconda3/envs/UiCS2/lib/python3.12/site-packages/cola/ops/operator_base.py:272\u001b[0m, in \u001b[0;36mfind_device\u001b[0;34m(obj)\u001b[0m\n\u001b[1;32m    270\u001b[0m \u001b[38;5;28;01melif\u001b[39;00m \u001b[38;5;28misinstance\u001b[39m(obj, (\u001b[38;5;28mtuple\u001b[39m, \u001b[38;5;28mlist\u001b[39m, \u001b[38;5;28mset\u001b[39m)):\n\u001b[1;32m    271\u001b[0m     \u001b[38;5;28;01mfor\u001b[39;00m ob \u001b[38;5;129;01min\u001b[39;00m obj:\n\u001b[0;32m--> 272\u001b[0m         device \u001b[38;5;241m=\u001b[39m find_device(ob)\n\u001b[1;32m    273\u001b[0m         \u001b[38;5;28;01mif\u001b[39;00m device \u001b[38;5;129;01mis\u001b[39;00m \u001b[38;5;129;01mnot\u001b[39;00m \u001b[38;5;28;01mNone\u001b[39;00m:\n\u001b[1;32m    274\u001b[0m             \u001b[38;5;28;01mreturn\u001b[39;00m device\n",
      "File \u001b[0;32m~/miniconda3/envs/UiCS2/lib/python3.12/site-packages/cola/ops/operator_base.py:272\u001b[0m, in \u001b[0;36mfind_device\u001b[0;34m(obj)\u001b[0m\n\u001b[1;32m    270\u001b[0m \u001b[38;5;28;01melif\u001b[39;00m \u001b[38;5;28misinstance\u001b[39m(obj, (\u001b[38;5;28mtuple\u001b[39m, \u001b[38;5;28mlist\u001b[39m, \u001b[38;5;28mset\u001b[39m)):\n\u001b[1;32m    271\u001b[0m     \u001b[38;5;28;01mfor\u001b[39;00m ob \u001b[38;5;129;01min\u001b[39;00m obj:\n\u001b[0;32m--> 272\u001b[0m         device \u001b[38;5;241m=\u001b[39m find_device(ob)\n\u001b[1;32m    273\u001b[0m         \u001b[38;5;28;01mif\u001b[39;00m device \u001b[38;5;129;01mis\u001b[39;00m \u001b[38;5;129;01mnot\u001b[39;00m \u001b[38;5;28;01mNone\u001b[39;00m:\n\u001b[1;32m    274\u001b[0m             \u001b[38;5;28;01mreturn\u001b[39;00m device\n",
      "File \u001b[0;32m~/miniconda3/envs/UiCS2/lib/python3.12/site-packages/cola/ops/operator_base.py:267\u001b[0m, in \u001b[0;36mfind_device\u001b[0;34m(obj)\u001b[0m\n\u001b[1;32m    265\u001b[0m \u001b[38;5;28;01mif\u001b[39;00m is_array(obj):\n\u001b[1;32m    266\u001b[0m     xnp \u001b[38;5;241m=\u001b[39m get_library_fns(obj\u001b[38;5;241m.\u001b[39mdtype)\n\u001b[0;32m--> 267\u001b[0m     \u001b[38;5;28;01mreturn\u001b[39;00m xnp\u001b[38;5;241m.\u001b[39mget_device(obj)\n\u001b[1;32m    268\u001b[0m \u001b[38;5;28;01melif\u001b[39;00m \u001b[38;5;28misinstance\u001b[39m(obj, LinearOperator):\n\u001b[1;32m    269\u001b[0m     \u001b[38;5;28;01mreturn\u001b[39;00m obj\u001b[38;5;241m.\u001b[39mdevice\n",
      "File \u001b[0;32m~/miniconda3/envs/UiCS2/lib/python3.12/site-packages/cola/backends/jax_fns.py:159\u001b[0m, in \u001b[0;36mget_device\u001b[0;34m(array)\u001b[0m\n\u001b[1;32m    157\u001b[0m \u001b[38;5;28;01mdef\u001b[39;00m \u001b[38;5;21mget_device\u001b[39m(array):\n\u001b[1;32m    158\u001b[0m     \u001b[38;5;28;01mif\u001b[39;00m \u001b[38;5;129;01mnot\u001b[39;00m \u001b[38;5;28misinstance\u001b[39m(array, jax\u001b[38;5;241m.\u001b[39mcore\u001b[38;5;241m.\u001b[39mTracer) \u001b[38;5;129;01mand\u001b[39;00m \u001b[38;5;28mhasattr\u001b[39m(array, \u001b[38;5;124m'\u001b[39m\u001b[38;5;124mdevice\u001b[39m\u001b[38;5;124m'\u001b[39m):\n\u001b[0;32m--> 159\u001b[0m         \u001b[38;5;28;01mreturn\u001b[39;00m array\u001b[38;5;241m.\u001b[39mdevice()\n\u001b[1;32m    160\u001b[0m     \u001b[38;5;28;01melse\u001b[39;00m:\n\u001b[1;32m    161\u001b[0m         \u001b[38;5;28;01mreturn\u001b[39;00m get_default_device()\n",
      "\u001b[0;31mTypeError\u001b[0m: 'jaxlib.xla_extension.Device' object is not callable"
     ]
    },
    {
     "data": {
      "image/png": "[encoded data removed]",
      "text/plain": [
       "<Figure size 700x600 with 4 Axes>"
      ]
     },
     "metadata": {},
     "output_type": "display_data"
    }
   ],
   "source": [
    "kernels = [\n",
    "    gpx.kernels.Matern12(),\n",
    "    gpx.kernels.Matern32(),\n",
    "    gpx.kernels.Matern52(),\n",
    "    gpx.kernels.RBF(),\n",
    "]\n",
    "fig, axes = plt.subplots(ncols=2, nrows=2, figsize=(7, 6), tight_layout=True)\n",
    "\n",
    "x = jnp.linspace(-3.0, 3.0, num=200).reshape(-1, 1)\n",
    "\n",
    "meanf = gpx.mean_functions.Zero()\n",
    "\n",
    "for k, ax in zip(kernels, axes.ravel()):\n",
    "    prior = gpx.gps.Prior(mean_function=meanf, kernel=k)\n",
    "    rv = prior(x)\n",
    "    y = rv.sample(seed=key, sample_shape=(10,))\n",
    "    ax.plot(x, y.T, alpha=0.7)\n",
    "    ax.set_title(k.name)"
   ]
  },
  {
   "cell_type": "markdown",
   "metadata": {},
   "source": [
    "## Jaxkern vs GPJax"
   ]
  },
  {
   "cell_type": "code",
   "execution_count": 8,
   "metadata": {},
   "outputs": [
    {
     "data": {
      "image/png": "[encoded data removed]",
      "text/plain": [
       "<Figure size 640x480 with 1 Axes>"
      ]
     },
     "metadata": {},
     "output_type": "display_data"
    },
    {
     "data": {
      "text/plain": [
       "jaxlib.xla_extension.ArrayImpl"
      ]
     },
     "execution_count": 8,
     "metadata": {},
     "output_type": "execute_result"
    }
   ],
   "source": [
    "lengthscale_ = 0.3\n",
    "output_scale_ = 5.0\n",
    "n = 100\n",
    "x = jnp.linspace(0, 1, n)[:, jnp.newaxis]\n",
    "\n",
    "# Jaxkern API:\n",
    "kernel = jk.RBF()\n",
    "cov = kernel.cross_covariance(params=dict(lengthscale=lengthscale_,\n",
    "                                        variance=output_scale_),\n",
    "                            x=x, y=x)\n",
    "plt.imshow(cov)\n",
    "plt.show()\n",
    "type(cov)"
   ]
  },
  {
   "cell_type": "code",
   "execution_count": 9,
   "metadata": {},
   "outputs": [
    {
     "data": {
      "text/plain": [
       "jaxlib.xla_extension.ArrayImpl"
      ]
     },
     "execution_count": 9,
     "metadata": {},
     "output_type": "execute_result"
    },
    {
     "data": {
      "image/png": "[encoded data removed]",
      "text/plain": [
       "<Figure size 640x480 with 1 Axes>"
      ]
     },
     "metadata": {},
     "output_type": "display_data"
    }
   ],
   "source": [
    "from gpjax import kernels\n",
    "\n",
    "kernel = kernels.RBF(lengthscale=lengthscale_, variance=output_scale_)\n",
    "cov = kernel.cross_covariance(x, x)\n",
    "\n",
    "# or as a single call\n",
    "cov = kernels.RBF(lengthscale=lengthscale_, variance=output_scale_).cross_covariance(x, x)\n",
    "\n",
    "plt.imshow(cov)\n",
    "type(cov)"
   ]
  },
  {
   "cell_type": "markdown",
   "metadata": {},
   "source": [
    "## Import GPJax as Jaxkern"
   ]
  },
  {
   "cell_type": "code",
   "execution_count": 10,
   "metadata": {},
   "outputs": [
    {
     "name": "stdout",
     "output_type": "stream",
     "text": [
      "init overwriter jaxkern RBF\n"
     ]
    },
    {
     "data": {
      "text/plain": [
       "jaxlib.xla_extension.ArrayImpl"
      ]
     },
     "execution_count": 10,
     "metadata": {},
     "output_type": "execute_result"
    }
   ],
   "source": [
    "from gpjax import kernels\n",
    "\n",
    "lengthscale_ = 0.3\n",
    "output_scale_ = 5.0\n",
    "n = 100\n",
    "x = jnp.linspace(0, 1, n)[:, jnp.newaxis]\n",
    "\n",
    "\n",
    "from adapter import jaxkern as jk\n",
    "kernel = jk.RBF()\n",
    "\n",
    "cov = kernel.cross_covariance(params=dict(lengthscale=lengthscale_,\n",
    "                                        variance=output_scale_),\n",
    "                            x=x, y=x) \n",
    "type(cov)"
   ]
  }
 ],
 "metadata": {
  "kernelspec": {
   "display_name": "Python 3",
   "language": "python",
   "name": "python3"
  },
  "language_info": {
   "codemirror_mode": {
    "name": "ipython",
    "version": 3
   },
   "file_extension": ".py",
   "mimetype": "text/x-python",
   "name": "python",
   "nbconvert_exporter": "python",
   "pygments_lexer": "ipython3",
   "version": "3.12.7"
  }
 },
 "nbformat": 4,
 "nbformat_minor": 2
}
