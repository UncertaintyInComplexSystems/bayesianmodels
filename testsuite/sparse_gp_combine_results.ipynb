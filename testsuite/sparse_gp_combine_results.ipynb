{
 "cells": [
  {
   "cell_type": "code",
   "execution_count": 2,
   "metadata": {},
   "outputs": [],
   "source": [
    "import pickle\n",
    "import os\n",
    "\n",
    "os.environ['CUDA_VISIBLE_DEVICES'] = f''\n",
    "\n",
    "import numpy as np\n",
    "import matplotlib.pyplot as plt\n",
    "\n",
    "# import jax\n",
    "# from jax.config import config\n",
    "# config.update(\"jax_enable_x64\", True)  # crucial for Gaussian processes\n",
    "# import jax.random as jrnd\n",
    "# import jax.numpy as jnp\n",
    "# import distrax as dx\n",
    "\n",
    "def plt_stylelize():\n",
    "    plt.rc('axes', titlesize=18)        # fontsize of the axes title\n",
    "    plt.rc('axes', labelsize=16)        # fontsize of the x and y labels\n",
    "    plt.rc('xtick', labelsize=14)       # fontsize of the tick labels\n",
    "    plt.rc('ytick', labelsize=14)       # fontsize of the tick labels\n",
    "    plt.rc('legend', fontsize=16)       # legend fontsize\n",
    "    plt.rc('figure', titlesize=20)      # fontsize of the figure title\n",
    "    plt.style.use('Solarize_Light2')\n",
    "plt_stylelize()"
   ]
  },
  {
   "cell_type": "markdown",
   "metadata": {},
   "source": [
    "## load data\n",
    "Collect all results by loading each pickle file within a specified results folder."
   ]
  },
  {
   "cell_type": "code",
   "execution_count": 35,
   "metadata": {},
   "outputs": [],
   "source": [
    "def get_files_paths(file_name, path):\n",
    "    \"\"\"\n",
    "    Finds all `file_name` within `path` including subfolders\n",
    "        and returns a list with complete file path per found file.\n",
    "    \"\"\"\n",
    "    found_paths = []\n",
    "    for root, _, files in os.walk(path):\n",
    "        filtered_files = list(\n",
    "            filter(lambda fname: file_name == fname, files))\n",
    "        if len(filtered_files) == 1:\n",
    "            found_paths.append(root + '/' + filtered_files[0])\n",
    "    \n",
    "    return found_paths\n",
    "\n",
    "def load_pickles(paths):\n",
    "    \"\"\"\n",
    "    Loads a bunch pickles located at `paths`,\n",
    "        unpickles and returns their content in a list ready for serving.\n",
    "    \"\"\"\n",
    "    vars = []\n",
    "    for path in paths:\n",
    "        with open(path, 'rb') as file: \n",
    "            vars.append(pickle.load(file))\n",
    "    return vars\n",
    "\n",
    "#path = './results_sparse_gp_test/2023-12-14_14-39_full-test_40-inducing_1000_100-smc_gp_std-Data_normal-Z/'\n",
    "# path = './results_sparse_gp_test/2023-12-14_15-18_full-test_40-inducing_1000_100-smc_chirp_std-Data_normal-Z/'\n",
    "# path = './results_sparse_gp_test/2023-12-14_15-18_full-test_40-inducing_1000_100-smc_square_std-Data_normal-Z/'\n",
    "\n",
    "# path = './results_sparse_gp_test/2023-12-14_17-41_full-test_100-inducing_1000_100-smc_chirp_std-Data_normal-Z/'\n",
    "#path = './results_sparse_gp_test/2023-12-14_17-41_full-test_100-inducing_1000_100-smc_gp_std-Data_normal-Z/'\n",
    "# path = './results_sparse_gp_test/2023-12-14_17-41_full-test_100-inducing_1000_100-smc_square_std-Data_normal-Z/'\n",
    "\n",
    "#path = './results_sparse_gp_test/2023-12-15_10-19_full-test_40-inducing_1000_200-smc_chirp_std-Data/'\n",
    "#path = './results_sparse_gp_test/2023-12-15_10-19_full-test_40-inducing_1000_200-smc_gp_std-Data/'\n",
    "#path = './results_sparse_gp_test/2023-12-15_10-19_full-test_40-inducing_1000_200-smc_square_std-Data/'\n",
    "\n",
    "path = './results_sparse_gp_test/2024-09-17_15-30_sanity_stdZprior_unsortedZ/'"
   ]
  },
  {
   "cell_type": "code",
   "execution_count": 36,
   "metadata": {},
   "outputs": [],
   "source": [
    "# combine all particles in numpy arrays to compute averages easier\n",
    "# resulting shape (num_runs, num_particles, num_variables per variable)\n",
    "\n",
    "data = dict(\n",
    "    x = None,\n",
    "    y = None,\n",
    "    ground_truth = None,\n",
    "    initial_particles = None,\n",
    "    particles = None,\n",
    "    marginal_likelihood=None)\n",
    "\n",
    "for k in data:\n",
    "    filtered_files = list(\n",
    "       filter(lambda fname: 'sparseGP' in fname, get_files_paths(f'{k}.pickle', path)))\n",
    "    data[k] = load_pickles(filtered_files)"
   ]
  },
  {
   "cell_type": "code",
   "execution_count": 37,
   "metadata": {},
   "outputs": [
    {
     "data": {
      "text/plain": [
       "dict_keys(['inducing_points', 'kernel', 'likelihood', 'u'])"
      ]
     },
     "execution_count": 37,
     "metadata": {},
     "output_type": "execute_result"
    }
   ],
   "source": [
    "data['initial_particles'][0].position.keys()"
   ]
  },
  {
   "cell_type": "code",
   "execution_count": 38,
   "metadata": {},
   "outputs": [
    {
     "data": {
      "text/plain": [
       "dict_keys(['inducing_points', 'kernel', 'likelihood', 'u'])"
      ]
     },
     "execution_count": 38,
     "metadata": {},
     "output_type": "execute_result"
    }
   ],
   "source": [
    "data['particles'][0].particles.keys()"
   ]
  },
  {
   "cell_type": "code",
   "execution_count": 10,
   "metadata": {},
   "outputs": [
    {
     "data": {
      "text/plain": [
       "10"
      ]
     },
     "execution_count": 10,
     "metadata": {},
     "output_type": "execute_result"
    }
   ],
   "source": [
    "# particles = dict(\n",
    "#     f = None,\n",
    "#     u = None,\n",
    "#     Z = None)\n",
    "# num_runs = len(data['particles'])\n",
    "# for k in particles:\n",
    "#     num_particles, num_variables = data['particles'][0].particles[k].shape\n",
    "#     particles[k] = np.zeros((num_runs, num_particles, num_variables))\n",
    "#     for i in range(num_runs):\n",
    "#         particles[k][i] = data['particles'][i].particles[k]\n",
    "# print(particles['f'].shape)\n",
    "\n",
    "\n",
    "# init_particles = dict(\n",
    "#     f = None,\n",
    "#     u = None,\n",
    "#     Z = None)\n",
    "# num_runs = len(data['initial_particles'])\n",
    "# for k in init_particles:\n",
    "#     num_particles, num_variables = data['initial_particles'][0].position[k].shape\n",
    "#     init_particles[k] = np.zeros((num_runs, num_particles, num_variables))\n",
    "#     for i in range(num_runs):\n",
    "#         init_particles[k][i] = data['initial_particles'][i].position[k]\n",
    "# print(init_particles['f'].shape)\n",
    "\n",
    "\n",
    "# # plot posterior f\n",
    "# plt.figure(figsize=(12, 4))\n",
    "# plt.plot(\n",
    "#     data['x'][0].flatten(), \n",
    "#     data['ground_truth'][0]['f'], \n",
    "#     label=f'true f', color='black', linewidth=1, alpha=1, zorder=-1)\n",
    "\n",
    "# f_mean_per_run = np.mean(particles['f'], axis=1)\n",
    "# f_mean = np.mean(f_mean_per_run, axis=0)\n",
    "# plt.plot(\n",
    "#     data['x'][0].flatten(), f_mean, \n",
    "#     label=f'post. f (avg)', color='red', linewidth=1.5, alpha=1, zorder=5)\n",
    "# for i in range(num_runs):\n",
    "#     plt.plot(\n",
    "#         data['x'][0].flatten(), f_mean_per_run[i, :],\n",
    "#         label=f'run {i}', \n",
    "#         linewidth=2, alpha=.5)\n",
    "\n",
    "#     Z_mean_per_run = np.mean(particles['Z'], axis=1)\n",
    "#     u_mean_per_run = np.mean(particles['u'], axis=1)\n",
    "#     plt.scatter(\n",
    "#         Z_mean_per_run[i, :], u_mean_per_run[i, :], \n",
    "#         #label=f'run {i}' if i==0 else \"\",\n",
    "#         alpha=0.5, s=10)\n",
    "# plt.title(f'Sparse GP\\navg. posterior f')\n",
    "# plt.legend()\n",
    "# plt.savefig(path + 'result_sparseGP_avg-f.png')\n",
    "# plt.show()\n",
    "\n",
    "\n",
    "\n",
    "# # plot inducing points\n",
    "# plt.figure(figsize=(12, 4))\n",
    "# f_mean_per_run = np.mean(particles['f'], axis=1)\n",
    "# f_mean = np.mean(f_mean_per_run, axis=0)\n",
    "# plt.plot(\n",
    "#     data['x'][0].flatten(), f_mean, \n",
    "#     label=f'post. f (avg)', color='black', linewidth=1, alpha=.8)\n",
    "\n",
    "# for i in range(num_runs):\n",
    "#     # init_Z_mean_per_run = np.mean(init_particles['Z'], axis=1)\n",
    "#     # init_u_mean_per_run = np.mean(init_particles['u'], axis=1)\n",
    "#     num_random_particles = 2\n",
    "#     rnd_particle = np.random.randint(0, 1000, num_random_particles)\n",
    "#     init_Z_mean_per_run = init_particles['Z'][:, rnd_particle, :]\n",
    "#     init_u_mean_per_run = init_particles['u'][:, rnd_particle, :]\n",
    "#     plt.scatter(\n",
    "#         init_Z_mean_per_run[i, :], init_u_mean_per_run[i, :], \n",
    "#         alpha=0.5, s=10, color='grey',\n",
    "#         label=f'init. inducing pts.\\n({num_random_particles} particles per run)' if i==0 else \"\") \n",
    "    \n",
    "#     Z_mean_per_run = np.mean(particles['Z'], axis=1)\n",
    "#     u_mean_per_run = np.mean(particles['u'], axis=1)\n",
    "#     plt.scatter(\n",
    "#         Z_mean_per_run[i, :], u_mean_per_run[i, :], \n",
    "#         label=f'post. u/Z (avg)' if i==0 else \"\",\n",
    "#         alpha=0.5, s=10)\n",
    "# plt.title(f'Sparse GP\\ninducing point particles')\n",
    "# plt.legend()\n",
    "# plt.savefig(path + 'result_sparseGP_inducing-particles.png')\n",
    "# plt.show()"
   ]
  },
  {
   "cell_type": "code",
   "execution_count": 32,
   "metadata": {},
   "outputs": [
    {
     "data": {
      "image/png": "[encoded data removed]",
      "text/plain": [
       "<Figure size 1200x400 with 1 Axes>"
      ]
     },
     "metadata": {},
     "output_type": "display_data"
    }
   ],
   "source": [
    "plt.figure(figsize=(12, 4))\n",
    "plt.plot(\n",
    "    data['x'][0].flatten(), \n",
    "    data['ground_truth'][0]['f'], \n",
    "    label=f'true f', color='black', linewidth=1, alpha=.5, zorder=-1)\n",
    "\n",
    "num_random_particles = 1\n",
    "rnd_particle_idx = np.random.randint(0, 1000, num_random_particles)\n",
    "\n",
    "for i in rnd_particle_idx:\n",
    "    plt.plot(\n",
    "        data['x'][0].flatten(), particles['f'][0, i, :],\n",
    "        color='darkgreen', linewidth=1.5, alpha=1, zorder=1,\n",
    "        label=f'post. f')\n",
    "    \n",
    "    plt.scatter(\n",
    "        particles['Z'][0, i, :],  particles['u'][0, i, :],\n",
    "        alpha=1, s=15, zorder=2,\n",
    "        label=f'post. u/Z')\n",
    "plt.title('random posterior particle')\n",
    "plt.legend()\n",
    "plt.show()"
   ]
  },
  {
   "cell_type": "code",
   "execution_count": 33,
   "metadata": {},
   "outputs": [
    {
     "ename": "IndexError",
     "evalue": "list index out of range",
     "output_type": "error",
     "traceback": [
      "\u001b[0;31m---------------------------------------------------------------------------\u001b[0m",
      "\u001b[0;31mIndexError\u001b[0m                                Traceback (most recent call last)",
      "Cell \u001b[0;32mIn[33], line 18\u001b[0m\n\u001b[1;32m     16\u001b[0m num_runs \u001b[38;5;241m=\u001b[39m \u001b[38;5;28mlen\u001b[39m(data[\u001b[38;5;124m'\u001b[39m\u001b[38;5;124mparticles\u001b[39m\u001b[38;5;124m'\u001b[39m])\n\u001b[1;32m     17\u001b[0m \u001b[38;5;28;01mfor\u001b[39;00m k \u001b[38;5;129;01min\u001b[39;00m particles:\n\u001b[0;32m---> 18\u001b[0m     num_particles, num_variables \u001b[38;5;241m=\u001b[39m \u001b[43mdata\u001b[49m\u001b[43m[\u001b[49m\u001b[38;5;124;43m'\u001b[39;49m\u001b[38;5;124;43mparticles\u001b[39;49m\u001b[38;5;124;43m'\u001b[39;49m\u001b[43m]\u001b[49m\u001b[43m[\u001b[49m\u001b[38;5;241;43m0\u001b[39;49m\u001b[43m]\u001b[49m\u001b[38;5;241m.\u001b[39mparticles[k]\u001b[38;5;241m.\u001b[39mshape\n\u001b[1;32m     19\u001b[0m     particles[k] \u001b[38;5;241m=\u001b[39m np\u001b[38;5;241m.\u001b[39mzeros((num_runs, num_particles, num_variables))\n\u001b[1;32m     20\u001b[0m     \u001b[38;5;28;01mfor\u001b[39;00m i \u001b[38;5;129;01min\u001b[39;00m \u001b[38;5;28mrange\u001b[39m(num_runs):\n",
      "\u001b[0;31mIndexError\u001b[0m: list index out of range"
     ]
    }
   ],
   "source": [
    "\n",
    "data = dict(\n",
    "    x = None,\n",
    "    y = None,\n",
    "    ground_truth = None,\n",
    "    initial_particles = None,\n",
    "    particles = None,\n",
    "    marginal_likelihood=None)\n",
    "\n",
    "for k in data:\n",
    "     filtered_files = list(\n",
    "            filter(lambda fname: 'latentGP' in fname, get_files_paths(f'{k}.pickle', path)))\n",
    "     data[k] = load_pickles(filtered_files)\n",
    "\n",
    "particles = dict(\n",
    "    f = None)\n",
    "num_runs = len(data['particles'])\n",
    "for k in particles:\n",
    "    num_particles, num_variables = data['particles'][0].particles[k].shape\n",
    "    particles[k] = np.zeros((num_runs, num_particles, num_variables))\n",
    "    for i in range(num_runs):\n",
    "        particles[k][i] = data['particles'][i].particles[k]\n",
    "print(particles['f'].shape)\n",
    "\n",
    "\n",
    "init_particles = dict(\n",
    "    f = None)\n",
    "num_runs = len(data['initial_particles'])\n",
    "for k in init_particles:\n",
    "    num_particles, num_variables = data['initial_particles'][0].position[k].shape\n",
    "    init_particles[k] = np.zeros((num_runs, num_particles, num_variables))\n",
    "    for i in range(num_runs):\n",
    "        init_particles[k][i] = data['initial_particles'][i].position[k]\n",
    "print(init_particles['f'].shape)\n",
    "\n",
    "\n",
    "# plot posterior f\n",
    "plt.figure(figsize=(12, 4))\n",
    "plt.plot(\n",
    "    data['x'][0].flatten(), \n",
    "    data['ground_truth'][0]['f'], \n",
    "    label=f'true f', color='black', linewidth=1, alpha=1, zorder=-1)\n",
    "\n",
    "f_mean_per_run = np.mean(particles['f'], axis=1)\n",
    "f_mean = np.mean(f_mean_per_run, axis=0)\n",
    "plt.plot(\n",
    "    data['x'][0].flatten(), f_mean, \n",
    "    label=f'post. f (avg)', color='red', linewidth=1.5, alpha=1, zorder=5)\n",
    "for i in range(num_runs):\n",
    "    plt.plot(\n",
    "        data['x'][0].flatten(), f_mean_per_run[i, :],\n",
    "        label=f'run {i}', \n",
    "        linewidth=2, alpha=.5)\n",
    "    plt.scatter(\n",
    "        data['x'][0].flatten(), data['y'][0].flatten(), \n",
    "        #label=f'run {i}' if i==0 else \"\",\n",
    "        alpha=0.5, s=10)\n",
    "plt.title(f'Latent GP\\navg. posterior f')\n",
    "plt.legend()\n",
    "plt.savefig(path + 'result_latentGP_avg-f.png')\n",
    "plt.show()"
   ]
  },
  {
   "cell_type": "code",
   "execution_count": null,
   "metadata": {},
   "outputs": [],
   "source": [
    "# from sprase_gp_test import plot_smc\n",
    "\n",
    "# plot_smc(\n",
    "#     data['x'][0],\n",
    "#     data['y'][0],\n",
    "#     data['particles'][0].particles,\n",
    "#     data['ground_truth'][0],\n",
    "#     f'average_{len(data[\"x\"])}_seeds',\n",
    "#     folder=path)"
   ]
  }
 ],
 "metadata": {
  "kernelspec": {
   "display_name": "jax2",
   "language": "python",
   "name": "python3"
  },
  "language_info": {
   "codemirror_mode": {
    "name": "ipython",
    "version": 3
   },
   "file_extension": ".py",
   "mimetype": "text/x-python",
   "name": "python",
   "nbconvert_exporter": "python",
   "pygments_lexer": "ipython3",
   "version": "3.10.12"
  }
 },
 "nbformat": 4,
 "nbformat_minor": 2
}
